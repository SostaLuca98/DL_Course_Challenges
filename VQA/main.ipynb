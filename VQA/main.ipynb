{
  "cells": [
    {
      "cell_type": "markdown",
      "metadata": {
        "id": "MVgntspNSnmL"
      },
      "source": [
        "# AN2DL Third Challenge: Visual Question Answering"
      ]
    },
    {
      "cell_type": "markdown",
      "metadata": {
        "id": "whApbeHqCfkU"
      },
      "source": [
        "This kind of problem required us to divide the features extraction process into two parts: the first one related to the images and the second one related to the questions. So we have implemented two different networks: a Convolutional Neural Network for the images task and a Long Short-Term Memory for the sentences. Then, we have concatenated them in order to get the final prediction. \n",
        "This was necessary since, unlike the previous assignments, we had to manage two different inputs, one having fixed-size (and then processable with a CNN) and one which is a sequence, so that we had to use a sequence model in order to keep track of the previous inputs. \n",
        "\n",
        "Since the dataset had very high-dimensionality, we needed to increase the Ram available with Colab to 25GB.\n",
        " \n",
        "Note : we have reported the description of each passage in the cells below."
      ]
    },
    {
      "cell_type": "code",
      "execution_count": null,
      "metadata": {
        "colab": {
          "base_uri": "https://localhost:8080/"
        },
        "id": "8-GSS9_g4CEH",
        "outputId": "155b4f44-2f4a-4918-a33e-4038a01d1a11",
        "vscode": {
          "languageId": "python"
        }
      },
      "outputs": [
        {
          "name": "stdout",
          "output_type": "stream",
          "text": [
            "Mounted at /content/drive\n"
          ]
        }
      ],
      "source": [
        "from google.colab import drive\n",
        "drive.mount('/content/drive')"
      ]
    },
    {
      "cell_type": "code",
      "execution_count": null,
      "metadata": {
        "id": "Shzj3oKLpHX-",
        "vscode": {
          "languageId": "python"
        }
      },
      "outputs": [],
      "source": [
        "import os\n",
        "import tensorflow as tf\n",
        "import numpy as np\n",
        "from PIL import Image\n",
        "import json\n",
        "from tensorflow.keras.preprocessing.text import Tokenizer\n",
        "from tensorflow.keras.preprocessing.sequence import pad_sequences\n",
        "from tensorflow.keras.layers import Conv2D, MaxPooling2D, Flatten\n",
        "from tensorflow.keras.layers import Input, LSTM, Embedding, Dense, Dropout\n",
        "from tensorflow.keras.models import Model, Sequential\n",
        "\n",
        "# Set the seed for random operations. \n",
        "# This let our experiments to be reproducible. \n",
        "SEED = 1234\n",
        "tf.random.set_seed(SEED)\n",
        "np.random.seed(SEED)\n",
        "MAX_NUM_WORDS = 10000;\n",
        "#set the size to which you want to resize the images\n",
        "img_h = 128 \n",
        "img_w = 128\n",
        "# Get current working directory\n",
        "cwd = os.getcwd()"
      ]
    },
    {
      "cell_type": "code",
      "execution_count": null,
      "metadata": {
        "id": "aGOvFVuEeOFx",
        "vscode": {
          "languageId": "python"
        }
      },
      "outputs": [],
      "source": [
        "labels_dict = {\n",
        "        '0': 0,\n",
        "        '1': 1,\n",
        "        '2': 2,\n",
        "        '3': 3,\n",
        "        '4': 4,\n",
        "        '5': 5,\n",
        "        'apple': 6,\n",
        "        'baseball': 7,\n",
        "        'bench': 8,\n",
        "        'bike': 9,\n",
        "        'bird': 10,\n",
        "        'black': 11,\n",
        "        'blanket': 12,\n",
        "        'blue': 13,\n",
        "        'bone': 14,\n",
        "        'book': 15,\n",
        "        'boy': 16,\n",
        "        'brown': 17,\n",
        "        'cat': 18,\n",
        "        'chair': 19,\n",
        "        'couch': 20,\n",
        "        'dog': 21,\n",
        "        'floor': 22,\n",
        "        'food': 23,\n",
        "        'football': 24,\n",
        "        'girl': 25,\n",
        "        'grass': 26,\n",
        "        'gray': 27,\n",
        "        'green': 28,\n",
        "        'left': 29,\n",
        "        'log': 30,\n",
        "        'man': 31,\n",
        "        'monkeybars': 32,\n",
        "        'no': 33,\n",
        "        'nothing': 34,\n",
        "        'orange': 35,\n",
        "        'pie': 36,\n",
        "        'plant': 37,\n",
        "        'playing': 38,\n",
        "        'red': 39,\n",
        "        'right': 40,\n",
        "        'rug': 41,\n",
        "        'sandbox': 42,\n",
        "        'sitting': 43,\n",
        "        'sleeping': 44,\n",
        "        'soccer': 45,\n",
        "        'squirrel': 46,\n",
        "        'standing': 47,\n",
        "        'stool': 48,\n",
        "        'sunny': 49,\n",
        "        'table': 50,\n",
        "        'tree': 51,\n",
        "        'watermelon': 52,\n",
        "        'white': 53,\n",
        "        'wine': 54,\n",
        "        'woman': 55,\n",
        "        'yellow': 56,\n",
        "        'yes': 57\n",
        "}"
      ]
    },
    {
      "cell_type": "markdown",
      "metadata": {
        "id": "B0BL6ZdxxRIm"
      },
      "source": [
        "# Dataset Creation"
      ]
    },
    {
      "cell_type": "markdown",
      "metadata": {
        "id": "M41PzkwCVfrk"
      },
      "source": [
        "First of all, we have extracted image ids, questions and answers from the json files and we have stored them in lists.\n",
        "Moreover, since every label must be of one word, we were required to change the label \"monkey bars\" into a single-word label. "
      ]
    },
    {
      "cell_type": "code",
      "execution_count": null,
      "metadata": {
        "id": "dTP-hd5RxSpT",
        "vscode": {
          "languageId": "python"
        }
      },
      "outputs": [],
      "source": [
        "#set the directories of the images and the annotations\n",
        "\n",
        "img_dir = '/content/VQA_Dataset/Images'\n",
        "train_annotations_dir = '/content/VQA_Dataset/train_questions_annotations.json'\n",
        "test_annotations_dir = '/content/VQA_Dataset/test_questions.json'\n",
        "img_dir = '/content/VQA_Dataset/Images'"
      ]
    },
    {
      "cell_type": "code",
      "execution_count": null,
      "metadata": {
        "id": "58G4qg8O18S1",
        "vscode": {
          "languageId": "python"
        }
      },
      "outputs": [],
      "source": [
        "\n",
        "train_ques_open = json.load(open(train_annotations_dir, 'r'))\n",
        "test_ques_open = json.load(open(test_annotations_dir, 'r'))\n",
        "\n",
        "train_ques = []\n",
        "train_ans = []\n",
        "train_img_ids = []\n",
        "\n",
        "test_ques = []\n",
        "test_img_ids = []\n",
        "test_ques_ids =[]\n",
        "\n",
        "count = 0\n",
        "for ques_id in train_ques_open:\n",
        "   train_ques.append(train_ques_open[ques_id][\"question\"])\n",
        "   if (train_ques_open[ques_id][\"answer\"]== \"monkey bars\"):\n",
        "     train_ques_open[ques_id][\"answer\"] = \"monkeybars\"\n",
        "   train_ans.append(train_ques_open[ques_id][\"answer\"])\n",
        "   img_path = os.path.join(img_dir,(train_ques_open[ques_id][\"image_id\"] + \".png\" ))\n",
        "   train_img_ids.append(img_path)\n",
        "\n",
        "for test_ques_id in test_ques_open:\n",
        "   test_ques_ids.append(test_ques_id)\n",
        "   test_ques.append(test_ques_open[test_ques_id][\"question\"])\n",
        "   img_path = os.path.join(img_dir,(test_ques_open[test_ques_id][\"image_id\"] + \".png\" ))\n",
        "   test_img_ids.append(img_path)"
      ]
    },
    {
      "cell_type": "markdown",
      "metadata": {
        "id": "R3LxrplXDGkw"
      },
      "source": [
        "We have created a function which returns a numpy array containing the images we wanted to use. The choice of this data structure helped us accelerating the computation."
      ]
    },
    {
      "cell_type": "code",
      "execution_count": null,
      "metadata": {
        "id": "8x_8sVHTCtNE",
        "vscode": {
          "languageId": "python"
        }
      },
      "outputs": [],
      "source": [
        "def create_img_dataset(train_img_ids, img_h, img_w, a, b):\n",
        "  train_img = []\n",
        "  for img_id in train_img_ids[a:b]:\n",
        "    img = Image.open(img_id)\n",
        "    img_resized = img.resize(size = (img_h,img_w),resample = Image.ANTIALIAS)\n",
        "    img_array = np.array(img_resized)\n",
        "    img_array = img_array[:,:,0:3]\n",
        "    img_array = img_array/255.0\n",
        "    train_img.append(img_array)\n",
        "    \n",
        "  train_imgs = np.array(train_img)\n",
        "\n",
        "  return train_imgs"
      ]
    },
    {
      "cell_type": "markdown",
      "metadata": {
        "id": "W1BXRmN8bQpN"
      },
      "source": [
        "Before the training we have created three numpy arrays containing 20000, 20000 and 18832 images respectively. Every array was saved in a path in our google drive folder and loaded at run time during training."
      ]
    },
    {
      "cell_type": "code",
      "execution_count": null,
      "metadata": {
        "id": "84tVp8W_icrW",
        "vscode": {
          "languageId": "python"
        }
      },
      "outputs": [],
      "source": [
        "#only to create the image dataset\n",
        "#don't run this cell if you have just created the files\n",
        "path = '/content/drive/MyDrive/Terzo Assignment' #enter the path in which you want to save the images\n",
        "file_name = 'data1' #change the name every time you create a new set of images\n",
        "save_path = os.path.join(path,file_name)\n",
        "train_imgs = create_img_dataset (train_img_ids, img_h, img_w, 0 , 20000)#data2: 20000-40000 data3:40000-58832  \n",
        "np.save(save_path, train_imgs)"
      ]
    },
    {
      "cell_type": "markdown",
      "metadata": {
        "id": "sP_ukDRe2dVr"
      },
      "source": [
        "# Tokenization "
      ]
    },
    {
      "cell_type": "code",
      "execution_count": null,
      "metadata": {
        "colab": {
          "base_uri": "https://localhost:8080/"
        },
        "id": "0IdnJ3DNe3Pp",
        "outputId": "9082273f-2e5c-4631-9938-69e0246dc15b",
        "vscode": {
          "languageId": "python"
        }
      },
      "outputs": [
        {
          "name": "stdout",
          "output_type": "stream",
          "text": [
            "Total words in the train questions: 4641\n",
            "Max train question length: 21\n",
            "Total words in the train answers: 58\n",
            "Max train answer length: 1\n"
          ]
        }
      ],
      "source": [
        "train_question_tokenizer = Tokenizer(num_words= MAX_NUM_WORDS, oov_token = '<UKN>')\n",
        "train_question_tokenizer.fit_on_texts(train_ques)\n",
        "train_question_tokenized = train_question_tokenizer.texts_to_sequences(train_ques)\n",
        "\n",
        "train_question_wtoi = train_question_tokenizer.word_index\n",
        "print('Total words in the train questions:', len(train_question_wtoi))\n",
        "  \n",
        "max_train_ques_length = max(len(sentence) for sentence in train_question_tokenized)\n",
        "print('Max train question length:', max_train_ques_length)\n",
        "\n",
        "train_answer_tokenizer = Tokenizer(num_words= MAX_NUM_WORDS)\n",
        "train_answer_tokenizer.fit_on_texts(train_ans)\n",
        "train_answer_tokenized = train_answer_tokenizer.texts_to_sequences(train_ans)\n",
        "  \n",
        "train_answer_wtoi = train_answer_tokenizer.word_index\n",
        "print('Total words in the train answers:', len(train_answer_wtoi))\n",
        "  \n",
        "max_train_ans_length = max(len(sentence) for sentence in train_answer_tokenized)\n",
        "print('Max train answer length:', max_train_ans_length)"
      ]
    },
    {
      "cell_type": "code",
      "execution_count": null,
      "metadata": {
        "id": "5kULyLsNBgk4",
        "vscode": {
          "languageId": "python"
        }
      },
      "outputs": [],
      "source": [
        "#this function is used to extract questions and answers for training\n",
        "#We cannot use all the data together so this function is called at each training session \n",
        "def set_questions_and_answers(a,b):\n",
        "  train_ans_first = train_answer_tokenized[a:b]\n",
        "  train_ques_first = train_question_tokenized[a:b]\n",
        "  return train_ques_first, train_ans_first"
      ]
    },
    {
      "cell_type": "code",
      "execution_count": null,
      "metadata": {
        "id": "DE6CtSkgy0vI",
        "vscode": {
          "languageId": "python"
        }
      },
      "outputs": [],
      "source": [
        "# Test questions tokenizer\n",
        "def test_tokenizer(test_ques):\n",
        "  test_question_tokenizer = Tokenizer(num_words= MAX_NUM_WORDS, oov_token = '<UKN>')\n",
        "  test_question_tokenizer.fit_on_texts(test_ques)\n",
        "  test_question_tokenized = train_question_tokenizer.texts_to_sequences(test_ques)\n",
        "  \n",
        "  test_question_wtoi = test_question_tokenizer.word_index\n",
        "  print('Total words in the test questions:', len(test_question_wtoi))\n",
        "  \n",
        "  max_test_ques_length = max(len(sentence) for sentence in test_question_tokenized)\n",
        "  print('Max test question length:', max_test_ques_length)\n",
        "\n",
        "  return test_question_tokenized, max_test_ques_length"
      ]
    },
    {
      "cell_type": "markdown",
      "metadata": {
        "id": "b-inU4d17sPv"
      },
      "source": [
        "# Padding sequences"
      ]
    },
    {
      "cell_type": "markdown",
      "metadata": {
        "id": "EGLWqAIVFFK7"
      },
      "source": [
        "These functions create the sequences to feed the network for training and for the prediction. The answers (y_train) are one-hot encoded because we are solving a classification problem.\n",
        "\n"
      ]
    },
    {
      "cell_type": "code",
      "execution_count": null,
      "metadata": {
        "id": "WKqJfRje7pcP",
        "vscode": {
          "languageId": "python"
        }
      },
      "outputs": [],
      "source": [
        "def pad_train_sequences(train_question_tokenized, train_answer_tokenized, max_train_ques_length, max_train_ans_length):\n",
        "  # Pad to max train question length\n",
        "  question_encoder_inputs = pad_sequences(train_question_tokenized, maxlen=max_train_ques_length, padding='pre')\n",
        "  \n",
        "  print(\"Questions encoder inputs shape:\", question_encoder_inputs.shape)\n",
        "  \n",
        "  # Pad to max train answer length\n",
        "  answer_encoder_inputs = pad_sequences(train_answer_tokenized, maxlen=max_train_ans_length)\n",
        "  y_train = tf.keras.utils.to_categorical(answer_encoder_inputs, num_classes = 59)\n",
        "  print(\"Answers encoder inputs shape:\", answer_encoder_inputs.shape)\n",
        "  print(y_train.shape)\n",
        "\n",
        "  return question_encoder_inputs, y_train "
      ]
    },
    {
      "cell_type": "code",
      "execution_count": null,
      "metadata": {
        "id": "S4KJumHYzpZA",
        "vscode": {
          "languageId": "python"
        }
      },
      "outputs": [],
      "source": [
        "def pad_test_sequences (test_question_tokenized, max_train_ques_length):\n",
        "  # pad test sequences to max train question length\n",
        "  test_inputs = pad_sequences(test_question_tokenized, maxlen=max_train_ques_length, padding='pre')\n",
        "  \n",
        "  print(\"Test inputs shape:\", test_inputs.shape)\n",
        "\n",
        "  return test_inputs"
      ]
    },
    {
      "cell_type": "code",
      "execution_count": null,
      "metadata": {
        "id": "7uSDvaCg9JbO",
        "vscode": {
          "languageId": "python"
        }
      },
      "outputs": [],
      "source": [
        "def create_word_dataset(a, b):\n",
        "    train_ques_first, train_ans_first = set_questions_and_answers(a, b)\n",
        "    question_encoder_inputs, y_train = pad_train_sequences(train_ques_first, train_ans_first, max_train_ques_length, max_train_ans_length)\n",
        "\n",
        "    return question_encoder_inputs, y_train"
      ]
    },
    {
      "cell_type": "markdown",
      "metadata": {
        "id": "SeNrsV5Xq-2b"
      },
      "source": [
        "# Model"
      ]
    },
    {
      "cell_type": "markdown",
      "metadata": {
        "id": "Q72ruNhrGdIT"
      },
      "source": [
        "The CNN model is obtained with transfer learning. After several attempts, we have realized that VGG19 was the better network for us because it is not too deep ( this is important to reduce the number of parameters and prevent overfitting ) and it is a better feature extractor than VGG16 because it has more convolutional blocks. Indeed, we have also tried other networks (e.g., ResNet and DenseNet), deeper and more complex, with worse results: the networks were better on the accuracy of the training set, but they were not able to generalize to the validation set. This is because the number of parameters was too huge and the networks were too complex for the specific problem we were dealing with. \n",
        "Instead, the language model is composed of: an embedding layer, which maps the initial sequence into a smaller space (128 is a good size because we have not a big vocabulary); a LSTM layer with 128 units, regularized by the dropout. \n",
        "After the concatenation, we have decided to add a dense layer before the softmax because we wanted to improve the connection between vision and language model.\n",
        "All the hyperparameters (number of frozen layers, embedding size, LSTM units, dropout rate and number of dense units) were tuned with cross validation but we consider also the total number of parameters of the model."
      ]
    },
    {
      "cell_type": "code",
      "execution_count": null,
      "metadata": {
        "id": "fm-j6FJrqBki",
        "vscode": {
          "languageId": "python"
        }
      },
      "outputs": [],
      "source": [
        "def define_model(img_h, img_w ):\n",
        "  # Define CNN for Image Input\n",
        "  vision_model = Sequential()\n",
        "  arch = tf.keras.applications.VGG19(\n",
        "    include_top = False,\n",
        "    weights=\"imagenet\",\n",
        "    input_shape=(img_h,img_w,3)\n",
        ")\n",
        "  for layer in arch.layers[:12]:\n",
        "    layer.trainable = False\n",
        "  vision_model.add(arch)\n",
        "  vision_model.add(tf.keras.layers.Flatten())\n",
        "  \n",
        "  image_input = Input(shape=(img_h, img_w, 3))\n",
        "  encoded_image = vision_model(image_input)\n",
        "  \n",
        "  # Define RNN for language input\n",
        "  language_model = Sequential()\n",
        "  question_input = Input(shape=[max_train_ques_length], dtype='int32')\n",
        "  embedded_question = Embedding(len(train_question_wtoi) + 1, output_dim=128, input_length=max_train_ques_length)(question_input)\n",
        "  language_model.add( LSTM(128))\n",
        "  language_model.add( Dropout(0.2))\n",
        "  encoded_question = language_model(embedded_question)\n",
        "  \n",
        "  # Combine CNN and RNN to create the final model\n",
        "  merged = tf.keras.layers.concatenate([encoded_question, encoded_image])\n",
        "  dense = Dense(256, activation = 'relu')(merged)\n",
        "  output = Dense( len(train_answer_wtoi)+1 , activation='softmax')(dense)\n",
        "  vqa_model = Model(inputs=[image_input, question_input], outputs=output)\n",
        "  \n",
        "  return vqa_model"
      ]
    },
    {
      "cell_type": "markdown",
      "metadata": {
        "id": "21JnG1XsKUh_"
      },
      "source": [
        "# Prepare model for training\n"
      ]
    },
    {
      "cell_type": "markdown",
      "metadata": {
        "id": "YHwCXWoPKss3"
      },
      "source": [
        "We have trained the model with a for-loop which manages 20000 images and question at iteration because the dataset was too big to handle all the data together. With the checkpoint we keep track of the best model during the training so we don't lose accuracy ."
      ]
    },
    {
      "cell_type": "code",
      "execution_count": null,
      "metadata": {
        "id": "zPenp_3sKcrs",
        "vscode": {
          "languageId": "python"
        }
      },
      "outputs": [],
      "source": [
        "def compile_model (vqa_model):\n",
        "  # Loss\n",
        "  loss = tf.keras.losses.CategoricalCrossentropy()\n",
        "  \n",
        "  # learning rate\n",
        "  lr = 1e-3\n",
        "  optimizer = tf.keras.optimizers.Adam(learning_rate=lr)\n",
        "\n",
        "  # Validation metrics\n",
        "  metrics = ['accuracy']\n",
        "  \n",
        "  # Compile Model\n",
        "  vqa_model.compile(optimizer=optimizer, loss=loss, metrics=metrics)"
      ]
    },
    {
      "cell_type": "code",
      "execution_count": null,
      "metadata": {
        "id": "MVXqwQBJzWAB",
        "vscode": {
          "languageId": "python"
        }
      },
      "outputs": [],
      "source": [
        "def define_callbacks():\n",
        "  from datetime import datetime\n",
        "  cwd = os.getcwd()\n",
        "  callbacks = []\n",
        "  now = datetime.now().strftime('%b%d_%H-%M-%S')\n",
        "  model_name = 'TRANS'\n",
        "  directory = '/content/drive/MyDrive/Terzo Assignment'\n",
        "  \n",
        "  exps_dir = os.path.join(directory, 'translation_experiments')\n",
        "  if not os.path.exists(exps_dir): os.makedirs(exps_dir)\n",
        "  exp_dir  = os.path.join(exps_dir ,  model_name + '_' + str(now))\n",
        "  if not os.path.exists(exp_dir):  os.makedirs(exp_dir)\n",
        "  ckpt_dir = os.path.join(exp_dir  , 'ckpts')\n",
        "  if not os.path.exists(ckpt_dir): os.makedirs(ckpt_dir)\n",
        "  best_dir = os.path.join(ckpt_dir , 'best')\n",
        "\n",
        "\n",
        "  # Model checkpoint\n",
        "  ckpt_callback = tf.keras.callbacks.ModelCheckpoint(filepath=best_dir, save_weights_only=True, save_best_only=True, verbose=2)\n",
        "  callbacks.append(ckpt_callback)\n",
        "  #lr adapter\n",
        "  lr_adapter_callback = tf.keras.callbacks.ReduceLROnPlateau(monitor='val_loss', \n",
        "                                            factor=0.2, \n",
        "                                            patience=3, \n",
        "                                            verbose=1, \n",
        "                                            mode='auto', \n",
        "                                            min_delta=0.0001, \n",
        "                                            cooldown=0)\n",
        "  callbacks.append(lr_adapter_callback)\n",
        "\n",
        "    # Early Stopping\n",
        "  early_stop = True\n",
        "  if early_stop:\n",
        "    es_callback = tf.keras.callbacks.EarlyStopping(monitor='val_loss', patience=10)\n",
        "    callbacks.append(es_callback)\n",
        "\n",
        "  return callbacks, best_dir"
      ]
    },
    {
      "cell_type": "code",
      "execution_count": null,
      "metadata": {
        "id": "AlbGCZQUT6Zp",
        "vscode": {
          "languageId": "python"
        }
      },
      "outputs": [],
      "source": [
        "\n",
        "def train_model(train_ques,train_ans, train_img_ids, callbacks, best_dir, n_samples):\n",
        "  x = [0,n_samples,2*n_samples,len(train_ques)]\n",
        "  for i in range(len(x)-1):\n",
        "    print(\"\\n--------------------------------------------------------------------------------------------------\")\n",
        "    print(f\"START TRAINING {i + 1} \")\n",
        "    print(\"--------------------------------------------------------------------------------------------------\\n\")\n",
        "    path = '/content/drive/MyDrive/Terzo Assignment'\n",
        "    img_file_name = 'data' + str(i+1) + '.npy'\n",
        "    img_path = os.path.join(path, img_file_name)\n",
        "    train_imgs = np.load(img_path)\n",
        "    question_encoder_inputs, y_train = create_word_dataset(x[i], x[i+1])\n",
        "    if i==0 :\n",
        "      vqa_model = define_model(img_h, img_w)\n",
        "      vqa_model.summary()\n",
        "      compile_model(vqa_model)\n",
        "    vqa_model.fit([train_imgs, question_encoder_inputs],\n",
        "                y_train,\n",
        "                epochs=50,\n",
        "                batch_size=20, \n",
        "                validation_split=0.2, \n",
        "                callbacks=callbacks)\n",
        "    vqa_model.load_weights(best_dir)\n",
        "\n",
        "  return vqa_model\n",
        "\n"
      ]
    },
    {
      "cell_type": "code",
      "execution_count": null,
      "metadata": {
        "colab": {
          "base_uri": "https://localhost:8080/"
        },
        "id": "NyjKME56ICAT",
        "outputId": "92d81ab2-72ae-4dd2-a963-8a1e804252b4",
        "vscode": {
          "languageId": "python"
        }
      },
      "outputs": [
        {
          "name": "stdout",
          "output_type": "stream",
          "text": [
            "\n",
            "--------------------------------------------------------------------------------------------------\n",
            "START TRAINING 1 \n",
            "--------------------------------------------------------------------------------------------------\n",
            "\n",
            "Questions encoder inputs shape: (20000, 21)\n",
            "Answers encoder inputs shape: (20000, 1)\n",
            "(20000, 59)\n",
            "Model: \"model\"\n",
            "__________________________________________________________________________________________________\n",
            "Layer (type)                    Output Shape         Param #     Connected to                     \n",
            "==================================================================================================\n",
            "input_3 (InputLayer)            [(None, 21)]         0                                            \n",
            "__________________________________________________________________________________________________\n",
            "embedding (Embedding)           (None, 21, 128)      594176      input_3[0][0]                    \n",
            "__________________________________________________________________________________________________\n",
            "input_2 (InputLayer)            [(None, 128, 128, 3) 0                                            \n",
            "__________________________________________________________________________________________________\n",
            "sequential_1 (Sequential)       (None, 128)          131584      embedding[0][0]                  \n",
            "__________________________________________________________________________________________________\n",
            "sequential (Sequential)         (None, 8192)         20024384    input_2[0][0]                    \n",
            "__________________________________________________________________________________________________\n",
            "concatenate (Concatenate)       (None, 8320)         0           sequential_1[0][0]               \n",
            "                                                                 sequential[0][0]                 \n",
            "__________________________________________________________________________________________________\n",
            "dense (Dense)                   (None, 256)          2130176     concatenate[0][0]                \n",
            "__________________________________________________________________________________________________\n",
            "dense_1 (Dense)                 (None, 59)           15163       dense[0][0]                      \n",
            "==================================================================================================\n",
            "Total params: 22,895,483\n",
            "Trainable params: 20,569,915\n",
            "Non-trainable params: 2,325,568\n",
            "__________________________________________________________________________________________________\n",
            "Epoch 1/50\n",
            "800/800 [==============================] - 47s 53ms/step - loss: 2.7504 - accuracy: 0.3637 - val_loss: 1.5557 - val_accuracy: 0.4520\n",
            "\n",
            "Epoch 00001: val_loss improved from inf to 1.55571, saving model to /content/drive/MyDrive/Terzo Assignment/translation_experiments/TRANS_Jan30_17-00-20/ckpts/best\n",
            "Epoch 2/50\n",
            "800/800 [==============================] - 40s 50ms/step - loss: 1.5587 - accuracy: 0.4718 - val_loss: 1.4808 - val_accuracy: 0.4697\n",
            "\n",
            "Epoch 00002: val_loss improved from 1.55571 to 1.48083, saving model to /content/drive/MyDrive/Terzo Assignment/translation_experiments/TRANS_Jan30_17-00-20/ckpts/best\n",
            "Epoch 3/50\n",
            "800/800 [==============================] - 40s 50ms/step - loss: 1.3655 - accuracy: 0.5225 - val_loss: 1.4834 - val_accuracy: 0.4462\n",
            "\n",
            "Epoch 00003: val_loss did not improve from 1.48083\n",
            "Epoch 4/50\n",
            "800/800 [==============================] - 40s 50ms/step - loss: 1.2647 - accuracy: 0.5473 - val_loss: 1.3137 - val_accuracy: 0.5085\n",
            "\n",
            "Epoch 00004: val_loss improved from 1.48083 to 1.31371, saving model to /content/drive/MyDrive/Terzo Assignment/translation_experiments/TRANS_Jan30_17-00-20/ckpts/best\n",
            "Epoch 5/50\n",
            "800/800 [==============================] - 40s 50ms/step - loss: 1.1557 - accuracy: 0.5794 - val_loss: 1.2772 - val_accuracy: 0.5318\n",
            "\n",
            "Epoch 00005: val_loss improved from 1.31371 to 1.27718, saving model to /content/drive/MyDrive/Terzo Assignment/translation_experiments/TRANS_Jan30_17-00-20/ckpts/best\n",
            "Epoch 6/50\n",
            "800/800 [==============================] - 40s 50ms/step - loss: 1.0673 - accuracy: 0.6000 - val_loss: 1.2258 - val_accuracy: 0.5362\n",
            "\n",
            "Epoch 00006: val_loss improved from 1.27718 to 1.22581, saving model to /content/drive/MyDrive/Terzo Assignment/translation_experiments/TRANS_Jan30_17-00-20/ckpts/best\n",
            "Epoch 7/50\n",
            "800/800 [==============================] - 40s 50ms/step - loss: 0.9853 - accuracy: 0.6267 - val_loss: 1.1907 - val_accuracy: 0.5620\n",
            "\n",
            "Epoch 00007: val_loss improved from 1.22581 to 1.19075, saving model to /content/drive/MyDrive/Terzo Assignment/translation_experiments/TRANS_Jan30_17-00-20/ckpts/best\n",
            "Epoch 8/50\n",
            "800/800 [==============================] - 40s 50ms/step - loss: 0.9370 - accuracy: 0.6428 - val_loss: 1.1908 - val_accuracy: 0.5555\n",
            "\n",
            "Epoch 00008: val_loss did not improve from 1.19075\n",
            "Epoch 9/50\n",
            "800/800 [==============================] - 40s 50ms/step - loss: 0.8994 - accuracy: 0.6518 - val_loss: 1.1920 - val_accuracy: 0.5533\n",
            "\n",
            "Epoch 00009: val_loss did not improve from 1.19075\n",
            "Epoch 10/50\n",
            "800/800 [==============================] - 40s 50ms/step - loss: 0.8448 - accuracy: 0.6726 - val_loss: 1.2246 - val_accuracy: 0.5535\n",
            "\n",
            "Epoch 00010: val_loss did not improve from 1.19075\n",
            "\n",
            "Epoch 00010: ReduceLROnPlateau reducing learning rate to 0.00020000000949949026.\n",
            "Epoch 11/50\n",
            "800/800 [==============================] - 40s 50ms/step - loss: 0.7896 - accuracy: 0.6935 - val_loss: 1.2486 - val_accuracy: 0.5645\n",
            "\n",
            "Epoch 00011: val_loss did not improve from 1.19075\n",
            "Epoch 12/50\n",
            "800/800 [==============================] - 40s 50ms/step - loss: 0.7575 - accuracy: 0.7094 - val_loss: 1.2842 - val_accuracy: 0.5617\n",
            "\n",
            "Epoch 00012: val_loss did not improve from 1.19075\n",
            "Epoch 13/50\n",
            "800/800 [==============================] - 40s 50ms/step - loss: 0.7338 - accuracy: 0.7171 - val_loss: 1.2894 - val_accuracy: 0.5625\n",
            "\n",
            "Epoch 00013: val_loss did not improve from 1.19075\n",
            "\n",
            "Epoch 00013: ReduceLROnPlateau reducing learning rate to 4.0000001899898055e-05.\n",
            "Epoch 14/50\n",
            "800/800 [==============================] - 40s 50ms/step - loss: 0.7188 - accuracy: 0.7270 - val_loss: 1.3020 - val_accuracy: 0.5633\n",
            "\n",
            "Epoch 00014: val_loss did not improve from 1.19075\n",
            "Epoch 15/50\n",
            "800/800 [==============================] - 40s 50ms/step - loss: 0.7259 - accuracy: 0.7191 - val_loss: 1.3087 - val_accuracy: 0.5600\n",
            "\n",
            "Epoch 00015: val_loss did not improve from 1.19075\n",
            "Epoch 16/50\n",
            "800/800 [==============================] - 40s 50ms/step - loss: 0.7093 - accuracy: 0.7314 - val_loss: 1.3101 - val_accuracy: 0.5615\n",
            "\n",
            "Epoch 00016: val_loss did not improve from 1.19075\n",
            "\n",
            "Epoch 00016: ReduceLROnPlateau reducing learning rate to 8.000000525498762e-06.\n",
            "Epoch 17/50\n",
            "800/800 [==============================] - 40s 50ms/step - loss: 0.7194 - accuracy: 0.7241 - val_loss: 1.3118 - val_accuracy: 0.5638\n",
            "\n",
            "Epoch 00017: val_loss did not improve from 1.19075\n",
            "\n",
            "--------------------------------------------------------------------------------------------------\n",
            "START TRAINING 2 \n",
            "--------------------------------------------------------------------------------------------------\n",
            "\n",
            "Questions encoder inputs shape: (20000, 21)\n",
            "Answers encoder inputs shape: (20000, 1)\n",
            "(20000, 59)\n",
            "Epoch 1/50\n",
            "800/800 [==============================] - 40s 50ms/step - loss: 1.2882 - accuracy: 0.5494 - val_loss: 1.1023 - val_accuracy: 0.5477\n",
            "\n",
            "Epoch 00001: val_loss improved from 1.19075 to 1.10233, saving model to /content/drive/MyDrive/Terzo Assignment/translation_experiments/TRANS_Jan30_17-00-20/ckpts/best\n",
            "Epoch 2/50\n",
            "800/800 [==============================] - 40s 50ms/step - loss: 1.0429 - accuracy: 0.5806 - val_loss: 1.0718 - val_accuracy: 0.5707\n",
            "\n",
            "Epoch 00002: val_loss improved from 1.10233 to 1.07176, saving model to /content/drive/MyDrive/Terzo Assignment/translation_experiments/TRANS_Jan30_17-00-20/ckpts/best\n",
            "Epoch 3/50\n",
            "800/800 [==============================] - 40s 50ms/step - loss: 0.9764 - accuracy: 0.6112 - val_loss: 1.0806 - val_accuracy: 0.5782\n",
            "\n",
            "Epoch 00003: val_loss did not improve from 1.07176\n",
            "Epoch 4/50\n",
            "800/800 [==============================] - 40s 50ms/step - loss: 0.9273 - accuracy: 0.6327 - val_loss: 1.0720 - val_accuracy: 0.5867\n",
            "\n",
            "Epoch 00004: val_loss did not improve from 1.07176\n",
            "Epoch 5/50\n",
            "800/800 [==============================] - 40s 50ms/step - loss: 0.8811 - accuracy: 0.6472 - val_loss: 1.0899 - val_accuracy: 0.5835\n",
            "\n",
            "Epoch 00005: val_loss did not improve from 1.07176\n",
            "\n",
            "Epoch 00005: ReduceLROnPlateau reducing learning rate to 0.00020000000949949026.\n",
            "Epoch 6/50\n",
            "800/800 [==============================] - 40s 50ms/step - loss: 0.7946 - accuracy: 0.6856 - val_loss: 1.0808 - val_accuracy: 0.5872\n",
            "\n",
            "Epoch 00006: val_loss did not improve from 1.07176\n",
            "Epoch 7/50\n",
            "800/800 [==============================] - 40s 50ms/step - loss: 0.7721 - accuracy: 0.6948 - val_loss: 1.1062 - val_accuracy: 0.5855\n",
            "\n",
            "Epoch 00007: val_loss did not improve from 1.07176\n",
            "Epoch 8/50\n",
            "800/800 [==============================] - 40s 50ms/step - loss: 0.7607 - accuracy: 0.6987 - val_loss: 1.1064 - val_accuracy: 0.5900\n",
            "\n",
            "Epoch 00008: val_loss did not improve from 1.07176\n",
            "\n",
            "Epoch 00008: ReduceLROnPlateau reducing learning rate to 4.0000001899898055e-05.\n",
            "Epoch 9/50\n",
            "800/800 [==============================] - 40s 50ms/step - loss: 0.7352 - accuracy: 0.7111 - val_loss: 1.1109 - val_accuracy: 0.5930\n",
            "\n",
            "Epoch 00009: val_loss did not improve from 1.07176\n",
            "Epoch 10/50\n",
            "800/800 [==============================] - 40s 50ms/step - loss: 0.7301 - accuracy: 0.7163 - val_loss: 1.1157 - val_accuracy: 0.5888\n",
            "\n",
            "Epoch 00010: val_loss did not improve from 1.07176\n",
            "Epoch 11/50\n",
            "800/800 [==============================] - 40s 50ms/step - loss: 0.7277 - accuracy: 0.7139 - val_loss: 1.1204 - val_accuracy: 0.5893\n",
            "\n",
            "Epoch 00011: val_loss did not improve from 1.07176\n",
            "\n",
            "Epoch 00011: ReduceLROnPlateau reducing learning rate to 8.000000525498762e-06.\n",
            "Epoch 12/50\n",
            "800/800 [==============================] - 40s 50ms/step - loss: 0.7232 - accuracy: 0.7161 - val_loss: 1.1219 - val_accuracy: 0.5897\n",
            "\n",
            "Epoch 00012: val_loss did not improve from 1.07176\n",
            "\n",
            "--------------------------------------------------------------------------------------------------\n",
            "START TRAINING 3 \n",
            "--------------------------------------------------------------------------------------------------\n",
            "\n",
            "Questions encoder inputs shape: (18832, 21)\n",
            "Answers encoder inputs shape: (18832, 1)\n",
            "(18832, 59)\n",
            "Epoch 1/50\n",
            "754/754 [==============================] - 40s 52ms/step - loss: 1.0894 - accuracy: 0.5682 - val_loss: 1.0830 - val_accuracy: 0.5830\n",
            "\n",
            "Epoch 00001: val_loss did not improve from 1.07176\n",
            "Epoch 2/50\n",
            "754/754 [==============================] - 38s 50ms/step - loss: 1.0010 - accuracy: 0.6060 - val_loss: 1.0701 - val_accuracy: 0.5800\n",
            "\n",
            "Epoch 00002: val_loss improved from 1.07176 to 1.07015, saving model to /content/drive/MyDrive/Terzo Assignment/translation_experiments/TRANS_Jan30_17-00-20/ckpts/best\n",
            "Epoch 3/50\n",
            "754/754 [==============================] - 38s 50ms/step - loss: 0.9357 - accuracy: 0.6260 - val_loss: 1.0816 - val_accuracy: 0.5787\n",
            "\n",
            "Epoch 00003: val_loss did not improve from 1.07015\n",
            "Epoch 4/50\n",
            "754/754 [==============================] - 38s 50ms/step - loss: 0.8793 - accuracy: 0.6506 - val_loss: 1.0783 - val_accuracy: 0.5843\n",
            "\n",
            "Epoch 00004: val_loss did not improve from 1.07015\n",
            "Epoch 5/50\n",
            "754/754 [==============================] - 38s 50ms/step - loss: 0.8437 - accuracy: 0.6656 - val_loss: 1.1054 - val_accuracy: 0.5944\n",
            "\n",
            "Epoch 00005: val_loss did not improve from 1.07015\n",
            "\n",
            "Epoch 00005: ReduceLROnPlateau reducing learning rate to 0.00020000000949949026.\n",
            "Epoch 6/50\n",
            "754/754 [==============================] - 38s 50ms/step - loss: 0.7521 - accuracy: 0.6994 - val_loss: 1.1106 - val_accuracy: 0.5949\n",
            "\n",
            "Epoch 00006: val_loss did not improve from 1.07015\n",
            "Epoch 7/50\n",
            "754/754 [==============================] - 38s 50ms/step - loss: 0.7249 - accuracy: 0.7119 - val_loss: 1.1373 - val_accuracy: 0.5920\n",
            "\n",
            "Epoch 00007: val_loss did not improve from 1.07015\n",
            "Epoch 8/50\n",
            "754/754 [==============================] - 38s 50ms/step - loss: 0.7070 - accuracy: 0.7181 - val_loss: 1.1465 - val_accuracy: 0.5912\n",
            "\n",
            "Epoch 00008: val_loss did not improve from 1.07015\n",
            "\n",
            "Epoch 00008: ReduceLROnPlateau reducing learning rate to 4.0000001899898055e-05.\n",
            "Epoch 9/50\n",
            "754/754 [==============================] - 38s 50ms/step - loss: 0.6863 - accuracy: 0.7274 - val_loss: 1.1533 - val_accuracy: 0.5893\n",
            "\n",
            "Epoch 00009: val_loss did not improve from 1.07015\n",
            "Epoch 10/50\n",
            "754/754 [==============================] - 38s 50ms/step - loss: 0.6820 - accuracy: 0.7299 - val_loss: 1.1602 - val_accuracy: 0.5922\n",
            "\n",
            "Epoch 00010: val_loss did not improve from 1.07015\n",
            "Epoch 11/50\n",
            "754/754 [==============================] - 38s 50ms/step - loss: 0.6775 - accuracy: 0.7309 - val_loss: 1.1619 - val_accuracy: 0.5936\n",
            "\n",
            "Epoch 00011: val_loss did not improve from 1.07015\n",
            "\n",
            "Epoch 00011: ReduceLROnPlateau reducing learning rate to 8.000000525498762e-06.\n",
            "Epoch 12/50\n",
            "754/754 [==============================] - 38s 50ms/step - loss: 0.6727 - accuracy: 0.7311 - val_loss: 1.1639 - val_accuracy: 0.5938\n",
            "\n",
            "Epoch 00012: val_loss did not improve from 1.07015\n"
          ]
        }
      ],
      "source": [
        "callbacks, best_dir = define_callbacks()\n",
        "vqa_model = train_model(train_ques,train_ans, train_img_ids, callbacks, best_dir, 20000)"
      ]
    },
    {
      "cell_type": "markdown",
      "metadata": {
        "id": "agq1hzZHb2HL"
      },
      "source": [
        "# Test prediction\n"
      ]
    },
    {
      "cell_type": "markdown",
      "metadata": {
        "id": "cDdGMwg5MdAQ"
      },
      "source": [
        "Finally, we have created the dictionary with the predictions. The labels in the answers dictionaries were not the same as the labels_dict we wanted to use so that we needed to manage this difference in order to get a correct prediction."
      ]
    },
    {
      "cell_type": "code",
      "execution_count": null,
      "metadata": {
        "id": "r3pL8TZKvMGa",
        "vscode": {
          "languageId": "python"
        }
      },
      "outputs": [],
      "source": [
        "def predict_test_image (img_path, question):\n",
        "  img = Image.open(img_path)\n",
        "  img_resized = img.resize(size = (img_h,img_w),resample = Image.ANTIALIAS)\n",
        "  img_array = np.array(img_resized)\n",
        "  img_array = img_array[:,:,0:3]\n",
        "  img_array = img_array/255.0\n",
        "  test_im = [img_array]\n",
        "  test_im = np.array(test_im)\n",
        "  pred = vqa_model.predict([test_im,question])\n",
        "  return pred"
      ]
    },
    {
      "cell_type": "code",
      "execution_count": null,
      "metadata": {
        "colab": {
          "base_uri": "https://localhost:8080/"
        },
        "id": "8is0peGjlf07",
        "outputId": "b8457dc9-66d6-42c5-a111-eaec317e2dab",
        "vscode": {
          "languageId": "python"
        }
      },
      "outputs": [
        {
          "name": "stdout",
          "output_type": "stream",
          "text": [
            "Total words in the test questions: 1374\n",
            "Max test question length: 18\n",
            "Test inputs shape: (6372, 21)\n"
          ]
        }
      ],
      "source": [
        "test_question_tokenized, max_test_ques_length = test_tokenizer(test_ques)\n",
        "\n",
        "test_inputs = pad_test_sequences (test_question_tokenized, max_train_ques_length)"
      ]
    },
    {
      "cell_type": "code",
      "execution_count": null,
      "metadata": {
        "id": "fejqat6px7FH",
        "vscode": {
          "languageId": "python"
        }
      },
      "outputs": [],
      "source": [
        "results = {}\n",
        "test_zip = zip(test_ques_ids,test_img_ids,test_inputs)\n",
        "test_zip = list(test_zip)\n",
        "for ques in test_zip:\n",
        "  question = np.array([list(ques[2])])\n",
        "  pred = predict_test_image(ques[1],question)\n",
        "  prediction = np.argmax(pred)\n",
        "  #Searching the key which refers to the predicted label in the answers dictionary \n",
        "  label = next((key for key in train_answer_wtoi if train_answer_wtoi[key] == prediction), None) \n",
        "  #add the correct labels_dict label to the dictionary containing the question ids as keys\n",
        "  results[ques[0]] = labels_dict[label]"
      ]
    },
    {
      "cell_type": "code",
      "execution_count": null,
      "metadata": {
        "id": "RSEMGYsKs5wi",
        "vscode": {
          "languageId": "python"
        }
      },
      "outputs": [],
      "source": [
        "from datetime import datetime\n",
        "def create_csv(results, results_dir='/content/drive/MyDrive/Terzo Assignment/results'):\n",
        "\n",
        "    csv_fname = 'results_'\n",
        "    csv_fname += datetime.now().strftime('%b%d_%H-%M-%S') + '.csv'\n",
        "\n",
        "    with open(os.path.join(results_dir, csv_fname), 'w') as f:\n",
        "\n",
        "        f.write('Id,Category\\n')\n",
        "\n",
        "        for key, value in results.items():\n",
        "            f.write(key + ',' + str(value) + '\\n')"
      ]
    },
    {
      "cell_type": "code",
      "execution_count": null,
      "metadata": {
        "id": "vgdRaWKU5x-_",
        "vscode": {
          "languageId": "python"
        }
      },
      "outputs": [],
      "source": [
        "create_csv (results)"
      ]
    },
    {
      "cell_type": "markdown",
      "metadata": {
        "id": "kYACLacAMCBo"
      },
      "source": [
        "# Results"
      ]
    },
    {
      "cell_type": "markdown",
      "metadata": {
        "id": "eITfT5wkYv-V"
      },
      "source": [
        "The results were satisfying because the accuracy of the prediction reflects the accuracy computed on the validation set.  We have gained generalization using a large dataset, indeed the performance has improved with a bigger number of data. However this approach cost us a lot of computational resources because we had to increase the RAM avalaible to 25 GB in order to use all the data. \n"
      ]
    },
    {
      "cell_type": "code",
      "execution_count": null,
      "metadata": {
        "colab": {
          "base_uri": "https://localhost:8080/",
          "height": 278
        },
        "id": "5Nfb1-asBRD9",
        "outputId": "caa8c59d-6be4-4ea3-9cd1-d3814b802514",
        "vscode": {
          "languageId": "python"
        }
      },
      "outputs": [
        {
          "name": "stdout",
          "output_type": "stream",
          "text": [
            "How is the weather?\n",
            "sunny\n"
          ]
        },
        {
          "data": {
            "image/png": "[encoded data removed]",
            "text/plain": [
              "<Figure size 432x288 with 1 Axes>"
            ]
          },
          "metadata": {
            "needs_background": "light",
            "tags": []
          },
          "output_type": "display_data"
        }
      ],
      "source": [
        "import matplotlib.pyplot as plt\n",
        "import matplotlib.image as mpimg\n",
        "question = test_ques[0]\n",
        "image = mpimg.imread(test_img_ids[0])\n",
        "pred = results[test_ques_ids[0]]\n",
        "label = next((key for key in labels_dict if labels_dict[key] == pred), None)\n",
        "\n",
        "print(question)\n",
        "print(label)\n",
        "imgplot = plt.imshow(image)"
      ]
    }
  ],
  "metadata": {
    "accelerator": "GPU",
    "colab": {
      "collapsed_sections": [],
      "machine_shape": "hm",
      "name": "Assignment3.ipynb",
      "provenance": []
    },
    "kernelspec": {
      "display_name": "Python 3",
      "name": "python3"
    }
  },
  "nbformat": 4,
  "nbformat_minor": 0
}
