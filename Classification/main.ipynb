{
  "cells": [
    {
      "cell_type": "markdown",
      "metadata": {
        "id": "g5u_xDG4bztx"
      },
      "source": [
        "# First Assignment AN2DL"
      ]
    },
    {
      "cell_type": "markdown",
      "metadata": {
        "id": "hqhH7L6UWchu"
      },
      "source": [
        "Before the construction of the model, we had to prepare the dataset, in order to set the directory properly for the methods we wanted to use. The validation set was not given, so we have splitted the training set: after many trials we have set the validation split at 0.15, which gave us a consistent prediction during the experiments. The training set was also preprocessed with data augmentation because we wanted to increase the number of images as well as to reduce overfitting.\n",
        "Before using transfer learning, we have constructed our own network: we have noticed a better performance when we have increased the width of the structure with the depth. With this network we have reached a 0.78 accuracy on the test set. We have regularized the model with dropout (rate=0.1), batch normalization and early stopping (patience=10). \n",
        "Afterwards, we wanted to increase model accuracy and reduce the number of trainable parameters. With transfer learning, we have tried different well known networks applying fine tuning. DenseNet and ResNet152v2, after several attempts on the optimal number of layers to block, gave important results: with the first one we have reached 0.8955 accuracy on the test set and reduce consistently the number of parameters. The graphs of validation loss and training loss showed us that overfitting is under control but the accuracy on the training set revealed that the model can improve.\n",
        "At the end we have tried to consider the two best models (DenseNet and ResNet152v2) together inside the prediction. Of course in this way we have increased the number of parameters, but we have reached 0.9111 of accuracy on the test set."
      ]
    },
    {
      "cell_type": "markdown",
      "metadata": {
        "id": "8n4XCJT-b8JV"
      },
      "source": [
        "## Import Library, set Seed and Directory"
      ]
    },
    {
      "cell_type": "code",
      "execution_count": null,
      "metadata": {
        "id": "_SlhbCqE2IDT"
      },
      "outputs": [],
      "source": [
        "from IPython.core.interactiveshell import InteractiveShell\n",
        "InteractiveShell.ast_node_interactivity = \"all\""
      ]
    },
    {
      "cell_type": "code",
      "execution_count": null,
      "metadata": {
        "id": "1k2mFHmp2PbY"
      },
      "outputs": [],
      "source": [
        "import os\n",
        "import tensorflow as tf\n",
        "import numpy as np\n",
        "import pandas as pd\n",
        "import matplotlib.pyplot as plt\n",
        "import sklearn as skl\n",
        "from PIL import Image\n",
        "from datetime import datetime"
      ]
    },
    {
      "cell_type": "code",
      "execution_count": null,
      "metadata": {
        "id": "Wq7DSp2INfqW"
      },
      "outputs": [],
      "source": [
        "# Set the seed for random operations. \n",
        "SEED = 1234\n",
        "tf.random.set_seed(SEED)  "
      ]
    },
    {
      "cell_type": "markdown",
      "metadata": {
        "id": "uj0D5YJCdVkd"
      },
      "source": [
        "### Drive and Folders"
      ]
    },
    {
      "cell_type": "markdown",
      "metadata": {
        "id": "SSZuXb2cZPF7"
      },
      "source": [
        "Change directory here and put MaskDataset already unzipped in the directory folder"
      ]
    },
    {
      "cell_type": "code",
      "execution_count": null,
      "metadata": {
        "colab": {
          "base_uri": "https://localhost:8080/"
        },
        "id": "M72gW3z72SHh",
        "outputId": "09838835-d695-4c13-a6e0-f30c6d6dfbd9"
      },
      "outputs": [
        {
          "name": "stdout",
          "output_type": "stream",
          "text": [
            "Mounted at /content/drive\n"
          ]
        }
      ],
      "source": [
        "from google.colab import drive\n",
        "drive.mount('/content/drive')\n",
        "directory='/content/drive/My Drive/Primo Assignment/'"
      ]
    },
    {
      "cell_type": "markdown",
      "metadata": {
        "id": "nbyuAtgtjVFD"
      },
      "source": [
        "Here we divide the images of the training set into the three classes:"
      ]
    },
    {
      "cell_type": "code",
      "execution_count": null,
      "metadata": {
        "id": "5ksdowqsdaRV"
      },
      "outputs": [],
      "source": [
        "dir = os.path.join(directory,'MaskDataset/training')\n",
        "\n",
        "dir_0 = os.path.join(dir, '0')\n",
        "dir_1 = os.path.join(dir, '1')\n",
        "dir_2 = os.path.join(dir, '2')\n",
        "if not os.path.exists(dir_0): os.makedirs(dir_0)\n",
        "if not os.path.exists(dir_1): os.makedirs(dir_1)\n",
        "if not os.path.exists(dir_2): os.makedirs(dir_2)\n",
        "\n",
        "import json\n",
        "json_path = \"\"\n",
        "with open(json_path) as json_file:\n",
        "    folder_index = json.load(json_file)\n",
        "\n",
        "\n",
        "def move_file(file_to_move):\n",
        "    file_name = file_to_move.split(os.path.sep)[-1]\n",
        "    index = folder_index[file_name]\n",
        "    new_dir = dir + \"/\" + f\"{index}\"\n",
        "    os.rename(file_to_move, os.path.join(new_dir, file_name))\n",
        "\n",
        "for entry in os.scandir(dir):\n",
        "    if (entry.path.endswith(\".jpg\") or entry.path.endswith(\".png\")) and entry.is_file():\n",
        "        move_file(entry.path)"
      ]
    },
    {
      "cell_type": "markdown",
      "metadata": {
        "id": "cO3g-0o9cIyt"
      },
      "source": [
        "## Image Data Generator"
      ]
    },
    {
      "cell_type": "markdown",
      "metadata": {
        "id": "FoaQIfZsj2d3"
      },
      "source": [
        "Now we apply the data augmentation and set the size of the validation set:"
      ]
    },
    {
      "cell_type": "code",
      "execution_count": null,
      "metadata": {
        "id": "RR7D9YxH2U0D"
      },
      "outputs": [],
      "source": [
        "# ImageDataGenerator\n",
        "\n",
        "from tensorflow.keras.preprocessing.image import ImageDataGenerator\n",
        "apply_data_augmentation = True \n",
        "val_split = 0.15\n",
        "\n",
        "train_data_gen = ImageDataGenerator(rescale=1./255, validation_split=val_split)\n",
        "valid_data_gen = ImageDataGenerator(rescale=1./255, validation_split=val_split)\n",
        "\n",
        "if apply_data_augmentation:\n",
        "  train_data_gen = ImageDataGenerator(rotation_range=10,\n",
        "                                      width_shift_range=10,\n",
        "                                      height_shift_range=10,\n",
        "                                      zoom_range=0.3,\n",
        "                                      horizontal_flip=True,\n",
        "                                      vertical_flip=False, \n",
        "                                      fill_mode='constant', \n",
        "                                      cval=0,\n",
        "                                      validation_split=val_split,\n",
        "                                      rescale=1./255)"
      ]
    },
    {
      "cell_type": "code",
      "execution_count": null,
      "metadata": {
        "colab": {
          "base_uri": "https://localhost:8080/"
        },
        "id": "FEE6Czvv2mtK",
        "outputId": "04be8d8c-8c76-44f7-e243-1135294047ba"
      },
      "outputs": [
        {
          "name": "stdout",
          "output_type": "stream",
          "text": [
            "Found 4773 images belonging to 3 classes.\n",
            "Found 841 images belonging to 3 classes.\n"
          ]
        }
      ],
      "source": [
        "# Create Generators\n",
        "dataset_dir = os.path.join(directory,'MaskDataset')\n",
        "\n",
        "num_classes = 3\n",
        "# Batch size\n",
        "bs = 64\n",
        "# Img shape\n",
        "img_h = 256\n",
        "img_w = 256\n",
        "\n",
        "# Training\n",
        "training_dir = os.path.join(dataset_dir, 'training')\n",
        "train_gen = train_data_gen.flow_from_directory(training_dir,\n",
        "                                               target_size=(img_h,img_w),\n",
        "                                               batch_size=bs,\n",
        "                                               classes = None, \n",
        "                                               class_mode='categorical',\n",
        "                                               shuffle=True,\n",
        "                                               subset='training',\n",
        "                                               seed=SEED)\n",
        "\n",
        "# Validation\n",
        "validation_dir = os.path.join(dataset_dir, 'training')\n",
        "valid_gen = valid_data_gen.flow_from_directory(validation_dir,\n",
        "                                               target_size=(img_h,img_w),\n",
        "                                               batch_size=bs, \n",
        "                                               classes = None,\n",
        "                                               class_mode='categorical',\n",
        "                                               shuffle=True,\n",
        "                                               subset='validation',\n",
        "                                               seed=SEED)"
      ]
    },
    {
      "cell_type": "code",
      "execution_count": null,
      "metadata": {
        "id": "faAl5isY2nPL"
      },
      "outputs": [],
      "source": [
        "# Creating Dataset\n",
        "train_dataset = tf.data.Dataset.from_generator(lambda: train_gen,\n",
        "                                               output_types=(tf.float32, tf.float32),\n",
        "                                               output_shapes=([None, img_h, img_w, 3], [None, num_classes]))\n",
        "valid_dataset = tf.data.Dataset.from_generator(lambda: valid_gen, \n",
        "                                               output_types=(tf.float32, tf.float32),\n",
        "                                               output_shapes=([None, img_h, img_w, 3], [None, num_classes]))\n",
        "# Repeat\n",
        "train_dataset = train_dataset.repeat()\n",
        "valid_dataset = valid_dataset.repeat()"
      ]
    },
    {
      "cell_type": "markdown",
      "metadata": {
        "id": "yzW2qcrscdVl"
      },
      "source": [
        "## Model Building"
      ]
    },
    {
      "cell_type": "code",
      "execution_count": null,
      "metadata": {
        "id": "hAfAO1NI2-jq"
      },
      "outputs": [],
      "source": [
        "from tensorflow.keras.models import Sequential, load_model\n",
        "from tensorflow.keras.layers import Dense, Flatten, Conv2D\n",
        "from tensorflow.keras.layers import MaxPooling2D, AveragePooling2D, GlobalAveragePooling2D\n",
        "from tensorflow.keras.layers import Dropout, BatchNormalization\n",
        "from tensorflow.keras.regularizers import l2 \n",
        "from tensorflow.keras.callbacks import ModelCheckpoint, TensorBoard, ReduceLROnPlateau, EarlyStopping \n",
        "tf.get_logger().setLevel('ERROR')"
      ]
    },
    {
      "cell_type": "code",
      "execution_count": null,
      "metadata": {
        "id": "wjw0aHcp_PEN"
      },
      "outputs": [],
      "source": [
        "# Inizialization\n",
        "now = datetime.now().strftime('%b%d_%H-%M-%S')\n",
        "model_name = 'CNN'\n",
        "callbacks = []"
      ]
    },
    {
      "cell_type": "markdown",
      "metadata": {
        "id": "4H55xu3-ci1-"
      },
      "source": [
        "### Model Layers"
      ]
    },
    {
      "cell_type": "markdown",
      "metadata": {
        "id": "ni6II2bGkoWS"
      },
      "source": [
        "These are the main networks we have used. We have also tried to use MobileNet and NasNetLarge , but with poor results.\n"
      ]
    },
    {
      "cell_type": "code",
      "execution_count": null,
      "metadata": {
        "id": "p_Sw7OA30Ots",
        "scrolled": true
      },
      "outputs": [],
      "source": [
        "def build_layers(architecture, freeze, rate, transfer):\n",
        "\n",
        "    # Building of various famous architectures\n",
        "    if transfer:\n",
        "\n",
        "        model = Sequential()\n",
        "\n",
        "        if (architecture == \"resnet\"):\n",
        "            arch = tf.keras.applications.resnet_v2.ResNet152V2(weights='imagenet', \n",
        "                                                               classes=num_classes, \n",
        "                                                               input_shape=(img_h, img_w, num_classes),\n",
        "                                                               include_top=False)\n",
        "            for layer in arch.layers[:freeze]:\n",
        "                layer.trainable = False\n",
        "\n",
        "        if (architecture == \"inception\"):\n",
        "            arch = tf.keras.applications.inception_v3.InceptionV3(weights='imagenet', \n",
        "                                                                  classes=num_classes, \n",
        "                                                                  input_shape=(img_h, img_w, num_classes),\n",
        "                                                                  include_top=False)\n",
        "            for layer in arch.layers[:freeze]:\n",
        "                layer.trainable = False\n",
        "\n",
        "        if (architecture == \"densenet\"):\n",
        "            arch = tf.keras.applications.densenet.DenseNet201(weights='imagenet',\n",
        "                                                              classes=num_classes, \n",
        "                                                              input_shape=(img_h, img_w, num_classes),\n",
        "                                                              include_top=False)\n",
        "            for layer in arch.layers[:freeze]:\n",
        "                layer.trainable = False\n",
        "\n",
        "        if (architecture == \"inceptionresnet\"):\n",
        "            arch = tf.keras.applications.inception_resnet_v2.InceptionResNetV2(weights='imagenet', \n",
        "                                                                               classes=num_classes, \n",
        "                                                                               input_shape=(img_h, img_w, num_classes),\n",
        "                                                                               include_top=False)\n",
        "            for layer in arch.layers[:freeze]:\n",
        "                layer.trainable = False\n",
        "\n",
        "        # Adding the last part of the layers\n",
        "        model.add(arch)\n",
        "        model.add(GlobalAveragePooling2D(data_format=None)) #we have seen that GAP is a good strategy to reduce the number of parameters and keep\n",
        "                                                            #high accuracy \n",
        "        model.add(Dropout(rate))\n",
        "        model.add(Dense(num_classes, activation='softmax'))\n",
        "        model.summary()\n",
        "    # Building our architecture\n",
        "    else:\n",
        "\n",
        "        if(architecture == \"manual1\"):\n",
        "            rate = 0.1\n",
        "            model = Sequential([\n",
        "                Conv2D( 16, (3,3), activation = \"relu\", input_shape=(256,256,3)),\n",
        "                MaxPooling2D((2,2)),\n",
        "                Conv2D( 32, (3,3), activation = \"relu\"),\n",
        "                MaxPooling2D((2,2)),\n",
        "                Conv2D( 64, (3,3), activation = \"relu\"),\n",
        "                MaxPooling2D((2,2)),\n",
        "                Conv2D(128, (3,3), activation = \"relu\"),\n",
        "                MaxPooling2D((2,2)),\n",
        "                Conv2D(256, (3,3), activation = \"relu\"),\n",
        "                MaxPooling2D((2,2)),\n",
        "                Conv2D(512, (3,3), activation = \"relu\"),\n",
        "                MaxPooling2D((2,2)),\n",
        "               \n",
        "                Flatten(),\n",
        "                BatchNormalization(),\n",
        "                Dense(512, activation=\"relu\"),\n",
        "                Dropout(rate, seed=SEED),\n",
        "                Dense(512, activation=\"relu\"),\n",
        "                Dropout(rate, seed=SEED),\n",
        "                Dense(num_classes, activation = \"softmax\")\n",
        "])\n",
        "\n",
        "    return model"
      ]
    },
    {
      "cell_type": "markdown",
      "metadata": {
        "id": "Z5VM0FhNcnVf"
      },
      "source": [
        "### Model Compiling"
      ]
    },
    {
      "cell_type": "code",
      "execution_count": null,
      "metadata": {
        "id": "kpJ7UWIbp9M4"
      },
      "outputs": [],
      "source": [
        "def build_optimization(model, lr):\n",
        "\n",
        "    # Optimization parameters\n",
        "    loss = tf.keras.losses.CategoricalCrossentropy()\n",
        "    optimizer = tf.keras.optimizers.Adam(learning_rate=lr)\n",
        "    metrics = ['categorical_accuracy']\n",
        "    model.compile(optimizer=optimizer, loss=loss, metrics=metrics)\n",
        "\n",
        "    return model"
      ]
    },
    {
      "cell_type": "code",
      "execution_count": null,
      "metadata": {
        "id": "SEvsdAr1oEuv"
      },
      "outputs": [],
      "source": [
        "def build_callbacks(early_stop):\n",
        "  \n",
        "    callbacks = []\n",
        "\n",
        "    # Checkpoint directory creations\n",
        "    exps_dir = os.path.join(directory, 'classification_experiments')\n",
        "    if not os.path.exists(exps_dir): os.makedirs(exps_dir)\n",
        "    exp_dir = os.path.join(exps_dir, model_name + '_' + str(now))\n",
        "    if not os.path.exists( exp_dir): os.makedirs(exp_dir)\n",
        "    ckpt_dir = os.path.join(exp_dir, 'ckpts')\n",
        "    if not os.path.exists(ckpt_dir): os.makedirs(ckpt_dir)\n",
        "    best_dir = os.path.join(ckpt_dir, 'best.h5')\n",
        "    callbacks.append(ModelCheckpoint(filepath=best_dir, save_best_only=True, verbose = 2))\n",
        "\n",
        "    # Early Stopping\n",
        "    if early_stop:\n",
        "      callbacks.append(EarlyStopping(monitor='val_loss', patience=10)) #Set for the training with 100 epochs together.\n",
        "                                                                       #Patience reduced from 10 to 5 when the model was trained repeating 10 epochs  \n",
        "                                                                       #and using model checkpoint.\n",
        "    # Introducing a lr adapter. We have seen that this works well reducing the time for convergence. \n",
        "    lr_adapter_callback = ReduceLROnPlateau(monitor='val_loss', \n",
        "                                            factor=0.2, \n",
        "                                            patience=3, \n",
        "                                            verbose=1, \n",
        "                                            mode='auto', \n",
        "                                            min_delta=0.0001, \n",
        "                                            cooldown=0)\n",
        "    callbacks.append(lr_adapter_callback)\n",
        "\n",
        "    return (callbacks,best_dir)\n"
      ]
    },
    {
      "cell_type": "markdown",
      "metadata": {
        "id": "zNSr0I5tctgZ"
      },
      "source": [
        "## Model Training"
      ]
    },
    {
      "cell_type": "markdown",
      "metadata": {
        "id": "drk4FTU5dBIc"
      },
      "source": [
        "### Model Fit"
      ]
    },
    {
      "cell_type": "code",
      "execution_count": null,
      "metadata": {
        "id": "3Le5g0clhc7M"
      },
      "outputs": [],
      "source": [
        "def build_fit(model, callbacks, ep):\n",
        "    history = model.fit(x = train_dataset, \n",
        "                        epochs=ep,\n",
        "                        steps_per_epoch=len(train_gen),\n",
        "                        validation_data=valid_dataset,\n",
        "                        validation_steps=len(valid_gen),\n",
        "                        callbacks=callbacks)\n",
        "    return history"
      ]
    },
    {
      "cell_type": "markdown",
      "metadata": {
        "id": "VEU8qN44dHJ-"
      },
      "source": [
        "### Training Graphics"
      ]
    },
    {
      "cell_type": "code",
      "execution_count": null,
      "metadata": {
        "id": "NAQk9Tu-rwZo"
      },
      "outputs": [],
      "source": [
        "def training_graphics(history):\n",
        "    frame = pd.DataFrame(history.history)\n",
        "\n",
        "    acc_plot = frame.plot(y=\"categorical_accuracy\", title=\"Accuracy vs Epochs\", legend=False)\n",
        "    acc_plot.set(xlabel=\"Epochs\", ylabel=\"Accuracy\")\n",
        "\n",
        "    acc_plot = frame.plot(y=\"loss\", title = \"Loss vs Epochs\",legend=False)\n",
        "    acc_plot.set(xlabel=\"Epochs\", ylabel=\"Loss\")\n",
        "\n",
        "    fig = plt.figure(figsize=(12, 5))\n",
        "    fig.add_subplot(121)\n",
        "    plt.plot(history.history['loss'])\n",
        "    plt.plot(history.history['val_loss'])\n",
        "    plt.title('Regularised model: loss vs. epochs')\n",
        "    plt.ylabel('Loss')\n",
        "    plt.xlabel('Epoch')\n",
        "    plt.legend(['Training', 'Validation'], loc='upper right')\n",
        "    plt.show()"
      ]
    },
    {
      "cell_type": "markdown",
      "metadata": {
        "id": "AswjjwhSse35"
      },
      "source": [
        "## Model Run"
      ]
    },
    {
      "cell_type": "markdown",
      "metadata": {
        "id": "gRKTjK0vuDGv"
      },
      "source": [
        "### Model Creation"
      ]
    },
    {
      "cell_type": "code",
      "execution_count": null,
      "metadata": {
        "id": "mAvnQ8z4saB6"
      },
      "outputs": [],
      "source": [
        "def model_run(architecture, freeze, ep, transfer):\n",
        "\n",
        "    # Parameters\n",
        "    lr = 5e-4\n",
        "    rate = 0.5\n",
        "    early_stop = True\n",
        "\n",
        "    # Model Building\n",
        "    model = build_layers(architecture, freeze, rate, transfer)\n",
        "    model = build_optimization(model, lr)\n",
        "    [callbacks, best_dir] = build_callbacks(early_stop)\n",
        "    history = build_fit(model, callbacks, ep)\n",
        "    #training_graphics(history)\n",
        "\n",
        "    return (model, best_dir, history)"
      ]
    },
    {
      "cell_type": "markdown",
      "metadata": {
        "id": "f07IS5H3uUJH"
      },
      "source": [
        "### Models Creations"
      ]
    },
    {
      "cell_type": "markdown",
      "metadata": {
        "id": "fYiOT_6pyiWu"
      },
      "source": [
        "Now we are creating a dictionary in which the keys are the names of our best models:"
      ]
    },
    {
      "cell_type": "code",
      "execution_count": null,
      "metadata": {
        "id": "bopK7o0VuYff"
      },
      "outputs": [],
      "source": [
        "models={}\n",
        "models[\"resnet\"] =list( model_run(\"resnet\", 285, 100, True))\n",
        "models[\"resnet\"][0]=load_model(models[\"resnet\"][1]) #here we are using the best model saved with model_checkpoint\n",
        "models[\"densenet\"] = list(model_run( \"densenet\", 350, 100, True))\n",
        "models[\"densenet\"][0]=load_model(models[\"densenet\"][1])"
      ]
    },
    {
      "cell_type": "code",
      "execution_count": null,
      "metadata": {
        "id": "KJjOULnxO8wv"
      },
      "outputs": [],
      "source": [
        "models[\"resnet\"][0](\"val_categorical_accuracy\")"
      ]
    },
    {
      "cell_type": "code",
      "execution_count": null,
      "metadata": {
        "colab": {
          "base_uri": "https://localhost:8080/",
          "height": 1000
        },
        "id": "U9_yecn7p6tu",
        "outputId": "1b643f9c-f0fe-4674-f738-897f201b0ed2"
      },
      "outputs": [
        {
          "name": "stdout",
          "output_type": "stream",
          "text": [
            "GRAPHICS OF RESNET\n"
          ]
        },
        {
          "data": {
            "image/png": "[encoded data removed]",
            "text/plain": [
              "<Figure size 432x288 with 1 Axes>"
            ]
          },
          "metadata": {
            "needs_background": "light",
            "tags": []
          },
          "output_type": "display_data"
        },
        {
          "data": {
            "image/png": "[encoded data removed]",
            "text/plain": [
              "<Figure size 432x288 with 1 Axes>"
            ]
          },
          "metadata": {
            "needs_background": "light",
            "tags": []
          },
          "output_type": "display_data"
        },
        {
          "data": {
            "image/png": "[encoded data removed]",
            "text/plain": [
              "<Figure size 864x360 with 1 Axes>"
            ]
          },
          "metadata": {
            "needs_background": "light",
            "tags": []
          },
          "output_type": "display_data"
        },
        {
          "name": "stdout",
          "output_type": "stream",
          "text": [
            "GRAPHICS OF DENSENET\n"
          ]
        },
        {
          "data": {
            "image/png": "[encoded data removed]",
            "text/plain": [
              "<Figure size 432x288 with 1 Axes>"
            ]
          },
          "metadata": {
            "needs_background": "light",
            "tags": []
          },
          "output_type": "display_data"
        },
        {
          "data": {
            "image/png": "[encoded data removed]",
            "text/plain": [
              "<Figure size 432x288 with 1 Axes>"
            ]
          },
          "metadata": {
            "needs_background": "light",
            "tags": []
          },
          "output_type": "display_data"
        },
        {
          "data": {
            "image/png": "[encoded data removed]",
            "text/plain": [
              "<Figure size 864x360 with 1 Axes>"
            ]
          },
          "metadata": {
            "needs_background": "light",
            "tags": []
          },
          "output_type": "display_data"
        }
      ],
      "source": [
        "print(\"GRAPHICS OF RESNET\")\n",
        "training_graphics(models[\"resnet\"][2])\n",
        "print(\"GRAPHICS OF DENSENET\")\n",
        "training_graphics(models[\"densenet\"][2])"
      ]
    },
    {
      "cell_type": "markdown",
      "metadata": {
        "id": "4wdSxulic5Vn"
      },
      "source": [
        "## Test Set and CSV"
      ]
    },
    {
      "cell_type": "code",
      "execution_count": null,
      "metadata": {
        "id": "WRzKzgH6EWck"
      },
      "outputs": [],
      "source": [
        "def create_csv(results, results_dir='./'):\n",
        "\n",
        "    csv_fname = 'results_'\n",
        "    csv_fname += datetime.now().strftime('%b%d_%H-%M-%S') + '.csv'\n",
        "\n",
        "    with open(os.path.join(results_dir, csv_fname), 'w') as f:\n",
        "\n",
        "        f.write('Id,Category\\n')\n",
        "\n",
        "        for key, value in results.items():\n",
        "            f.write(key + ',' + str(value) + '\\n')"
      ]
    },
    {
      "cell_type": "code",
      "execution_count": null,
      "metadata": {
        "id": "ag5RL9JtEXZX"
      },
      "outputs": [],
      "source": [
        "dir = os.path.join(directory,'MaskDataset/test')\n",
        "csv_dir = os.path.join(directory,'csv')\n",
        "\n",
        "image_filenames = next(os.walk(dir))\n",
        "results = {}\n",
        "\n",
        "for image_name in image_filenames[2]:\n",
        "    img_path = os.path.join(dir,image_name)\n",
        "    img = Image.open(img_path).convert('RGB')\n",
        "    \n",
        "    img = img.resize((256,256))\n",
        "    img_array = np.array(img)\n",
        "    img_array = np.expand_dims(img_array, 0)\n",
        "    img_array = img_array/255\n",
        "\n",
        "    predictions = np.array([[0, 0, 0]], dtype = \"float32\")\n",
        "    \n",
        "    for key in models:\n",
        "      \n",
        "      predictions += models[key][0].predict(img_array) #we are summing the predictions obtained from the different models\n",
        "    results[image_name] = np.argmax(predictions)       #we take the index corresponding to the argmax of the predictions\n",
        "\n",
        "create_csv(results, csv_dir)"
      ]
    }
  ],
  "metadata": {
    "accelerator": "GPU",
    "colab": {
      "collapsed_sections": [],
      "provenance": []
    },
    "kernelspec": {
      "display_name": "Python 3.10.6 64-bit",
      "language": "python",
      "name": "python3"
    },
    "language_info": {
      "name": "python",
      "version": "3.10.6"
    },
    "vscode": {
      "interpreter": {
        "hash": "37083a178839ddb6837eca99e3841ef7be6dad5dc50c6d19829e2187d61ddd5d"
      }
    }
  },
  "nbformat": 4,
  "nbformat_minor": 0
}
